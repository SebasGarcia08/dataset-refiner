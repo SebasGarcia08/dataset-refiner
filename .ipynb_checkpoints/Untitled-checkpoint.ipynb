{
 "cells": [
  {
   "cell_type": "code",
   "execution_count": 2,
   "metadata": {
    "ExecuteTime": {
     "end_time": "2020-06-10T10:28:23.798655Z",
     "start_time": "2020-06-10T10:28:21.885074Z"
    }
   },
   "outputs": [],
   "source": [
    "import tensorflow as tf\n",
    "import cv2\n",
    "from tensorflow.keras.applications.mobilenet_v2 import preprocess_input\n",
    "from tensorflow.keras.preprocessing.image import img_to_array"
   ]
  },
  {
   "cell_type": "code",
   "execution_count": 5,
   "metadata": {
    "ExecuteTime": {
     "end_time": "2020-06-10T10:30:51.298200Z",
     "start_time": "2020-06-10T10:30:51.189426Z"
    }
   },
   "outputs": [
    {
     "name": "stdout",
     "output_type": "stream",
     "text": [
      "b'../dataset/with_mask/0027.jpg'\n",
      "b'../dataset/with_mask/332-with-mask.jpg'\n",
      "b'../dataset/without_mask/456.jpg'\n",
      "b'../dataset/with_mask/390-with-mask.jpg'\n",
      "b'../dataset/without_mask/augmented_image_266.jpg'\n",
      "b'../dataset/without_mask/00000589.jpg'\n",
      "b'../dataset/with_mask/0158.jpg'\n",
      "b'../dataset/with_mask/104.jpg'\n",
      "b'../dataset/without_mask/450.jpg'\n",
      "b'../dataset/without_mask/00000676.jpg'\n"
     ]
    }
   ],
   "source": [
    "data_dir = \"../dataset/\"\n",
    "list_ds = tf.data.Dataset.list_files(data_dir+'*/*.jpg')\n",
    "print(\"\\n\".join(str(f.numpy()) for f in list_ds.take(10) ))"
   ]
  },
  {
   "cell_type": "code",
   "execution_count": null,
   "metadata": {},
   "outputs": [],
   "source": [
    "# OpenCV\n",
    "def opencv_preprocess_img(imgCrop):\n",
    "    face = cv2.cvtColor(imgCrop, cv2.COLOR_BGR2RGB)\n",
    "    face = cv2.resize(face, (224, 224))\n",
    "    face = img_to_array(face)\n",
    "    face = preprocess_input(face)\n",
    "    face = np.expand_dims(face, axis=0)\n",
    "    return face\n",
    "\n"
   ]
  }
 ],
 "metadata": {
  "hide_input": false,
  "kernelspec": {
   "display_name": "Python 3",
   "language": "python",
   "name": "python3"
  },
  "language_info": {
   "codemirror_mode": {
    "name": "ipython",
    "version": 3
   },
   "file_extension": ".py",
   "mimetype": "text/x-python",
   "name": "python",
   "nbconvert_exporter": "python",
   "pygments_lexer": "ipython3",
   "version": "3.7.4"
  },
  "toc": {
   "base_numbering": 1,
   "nav_menu": {},
   "number_sections": true,
   "sideBar": true,
   "skip_h1_title": false,
   "title_cell": "Table of Contents",
   "title_sidebar": "Contents",
   "toc_cell": false,
   "toc_position": {},
   "toc_section_display": true,
   "toc_window_display": false
  },
  "varInspector": {
   "cols": {
    "lenName": 16,
    "lenType": 16,
    "lenVar": 40
   },
   "kernels_config": {
    "python": {
     "delete_cmd_postfix": "",
     "delete_cmd_prefix": "del ",
     "library": "var_list.py",
     "varRefreshCmd": "print(var_dic_list())"
    },
    "r": {
     "delete_cmd_postfix": ") ",
     "delete_cmd_prefix": "rm(",
     "library": "var_list.r",
     "varRefreshCmd": "cat(var_dic_list()) "
    }
   },
   "types_to_exclude": [
    "module",
    "function",
    "builtin_function_or_method",
    "instance",
    "_Feature"
   ],
   "window_display": false
  }
 },
 "nbformat": 4,
 "nbformat_minor": 2
}
